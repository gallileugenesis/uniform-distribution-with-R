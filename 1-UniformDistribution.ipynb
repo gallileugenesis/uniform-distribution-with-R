{
 "cells": [
  {
   "cell_type": "markdown",
   "id": "61bc9b2a",
   "metadata": {},
   "source": [
    "### 1. Distribuição Uniforme \n",
    "\n",
    "Prof. Gallileu Genesis\n",
    "\n",
    "A Distribuição Uniforme é uma das distribuições de probabilidade mais simples e fundamentais. Ela descreve um cenário em que todos os eventos possíveis têm a mesma probabilidade de ocorrer. Isso significa que cada valor dentro de um intervalo específico é igualmente provável de ser observado.\n",
    "\n",
    "Pode ser usada para modelar tanto variáveis discreta quanto variáveis continuas e é frequentemente representada graficamente como um retângulo, onde a altura do retângulo representa a probabilidade e a largura representa a amplitude do intervalo.\n",
    "\n",
    "#### 1.1 Distribuição Uniforme Discreta\n",
    "A distribuição uniforme discreta é usada quando temos um número finito de valores possíveis, e cada um deles tem a mesma probabilidade. Matematicamente, para uma distribuição uniforme discreta com valores no conjunto {$x_1, x_2, ..., x_n$}, a função de probabilidade é definida da seguinte maneira:\n",
    "\n",
    "\n",
    "$P(X = x_i) = \\dfrac{1}{n}$ ,   para $i = 1, 2, ..., n$\n",
    "\n",
    "Onde:\n",
    "\n",
    "- $P(X = x_i)$ é a probabilidade de a variável aleatória $X$ assumir o valor $x_i$.\n",
    "- $n$ é o número total de valores possíveis, ou seja, o tamanho do conjunto de valores {$x_1, x_2, ..., x_n$}.\n",
    "\n",
    "A média (valor esperado) de uma distribuição uniforme discreta é calculada da seguinte forma:\n",
    "\n",
    "- Média: $\\mu = \\dfrac{(x_1 + x_2 + ... + x_n)}{n} = \\dfrac{1}{n}  \\sum_{i=1}^{n} x_i$ \n",
    "\n",
    "A variância de uma distribuição uniforme discreta é calculada como:\n",
    "\n",
    "- Variância: $\\sigma^2 = \\dfrac{(x_1 - \\mu)^2 + (x_2 - \\mu)^2 + ... + (x_n - \\mu)^2}{n} =  \\dfrac{1}{n} \\sum_{i=1}^{n} (x_i - \\mu)^2$\n",
    "\n",
    "\n",
    "Um exemplo clássico é o lançamento de um dado justo de seis faces. Cada número de 1 a 6 tem uma probabilidade de 1/6 de ser lançado (Figura da esquerda, abaixo).\n",
    "\n",
    "#### 1.2 Distribuição Uniforme contínua\n",
    "\n",
    "A distribuição uniforme contínua é usada quando os valores possíveis formam um intervalo contínuo. Matematicamente, uma distribuição uniforme contínua em um intervalo $[a, b]$ é definida pela sua função de densidade de probabilidade $f(x)$ da seguinte forma:\n",
    "\n",
    "$f(x) = \\begin{cases}\n",
    "         \\dfrac{1}{b - a}, & \\text{se } a \\leq x \\leq b \\\\\n",
    "         0, & \\text{caso contrário}\n",
    "       \\end{cases}$\n",
    "\n",
    "\n",
    "Onde:\n",
    "- $a$ e $b$ são os limites inferior e superior do intervalo, respectivamente.\n",
    "- $x$ é uma variável aleatória dentro desse intervalo.\n",
    "\n",
    "A integral da função de densidade de probabilidade ao longo do intervalo $[a, b]$ é igual a 1, o que significa que a área sob a curva da distribuição uniforme é sempre igual a 1. Isso reflete o fato de que a probabilidade total de todos os eventos possíveis deve ser igual a 1.\n",
    "\n",
    "Além disso, a média (valor esperado) e a variância de uma distribuição uniforme no intervalo $[a, b]$ podem ser calculadas da seguinte forma:\n",
    "\n",
    "- Média: $\\mu = \\dfrac{a + b}{2}$  \n",
    "- Variância:  $\\sigma^2 = \\dfrac{(b - a)^2}{12}$\n",
    "\n",
    "Um exemplo é a escolha de um número aleatório entre 0 e 1. Nesse caso, qualquer número dentro desse intervalo tem a mesma probabilidade de ser escolhido, e a probabilidade é distribuída uniformemente ao longo desse intervalo (Figura da direita, abaixo)."
   ]
  },
  {
   "cell_type": "code",
   "execution_count": 41,
   "id": "c13884d5",
   "metadata": {},
   "outputs": [
    {
     "data": {
      "image/png": "[encoded data removed]",
      "text/plain": [
       "Plot with title \"Distribuição Uniforme Contínua\""
      ]
     },
     "metadata": {},
     "output_type": "display_data"
    }
   ],
   "source": [
    "# Dados para a distribuição uniforme discreta\n",
    "valores_discretos <- c(1, 2, 3, 4, 5, 6)\n",
    "probabilidade_discreta <- rep(1/6, 6)  # Probabilidade de 1/6 igual para cada valor\n",
    "\n",
    "# Dados para a distribuição uniforme contínua\n",
    "a <- 0 # inicio do intervalo\n",
    "b <- 1 # fim intervalo\n",
    "intervalo_contínuo <- seq(from = a, to = a, length.out = 100)\n",
    "probabilidade_contínua <- rep(0.5, 100)  # Probabilidade de 0.5 constante dentro do intervalo\n",
    "\n",
    "# Define o tamanho das figuras\n",
    "options(repr.plot.width = 10, repr.plot.height = 4)\n",
    "\n",
    "# Criação dos gráficos usando plot() do pacote base do R\n",
    "par(mfrow=c(1, 2))  # Configuração para exibir os gráficos lado a lado\n",
    "\n",
    "# Gráfico da distribuição uniforme discreta\n",
    "barplot(probabilidade_discreta, names.arg = valores_discretos, main = \"Distribuição Uniforme Discreta\", xlab = \"Valores\", ylab = \"Probabilidade\")\n",
    "\n",
    "# Gráfico da distribuição uniforme contínua \n",
    "plot(intervalo_contínuo, probabilidade_contínua, type = \"n\", main = \"Distribuição Uniforme Contínua\", xlab = \"Intervalo\", ylab = \"Probabilidade\")\n",
    "polygon(c(intervalo_contínuo, rev(intervalo_contínuo)), c(probabilidade_contínua, rep(0, length(probabilidade_contínua))), col = \"gray\")\n",
    "lines(intervalo_contínuo, probabilidade_contínua, type = \"l\")\n",
    "\n",
    "# Configuração para salvar em uma única figura\n",
    "png(\"Figures/distribuicoes.png\", width = 800, height = 400)\n",
    "\n",
    "# Reset das configurações de layout\n",
    "par(mfrow=c(1, 1))\n"
   ]
  },
  {
   "cell_type": "markdown",
   "id": "27d5154f",
   "metadata": {},
   "source": [
    "#### Exemplo: Tempo de espera em um semáforo\n",
    "\n",
    "Vamos considerar um exemplo onde estamos interessados em modelar o tempo de espera aleatório que um motorista pode ter em um semáforo de trânsito. Suponha que o tempo de espera em segundos está uniformemente distribuído entre 20 e 60 segundos."
   ]
  },
  {
   "cell_type": "code",
   "execution_count": 45,
   "id": "d3f17fb5",
   "metadata": {},
   "outputs": [
    {
     "name": "stdout",
     "output_type": "stream",
     "text": [
      "Valores aleatórios: 53.19356 50.58862 45.51637 36.22017 51.51233 55.44144 56.8377 48.71494 38.6505 36.34629 \n",
      "Média: 47.30219 \n",
      "Variância: 60.36523 \n"
     ]
    },
    {
     "data": {
      "image/png": "[encoded data removed]",
      "text/plain": [
       "plot without title"
      ]
     },
     "metadata": {},
     "output_type": "display_data"
    }
   ],
   "source": [
    "# Gerando 10 valores aleatórios seguindo a distribuição uniforme contínua\n",
    "a <- 20\n",
    "b <- 60\n",
    "num_values <- 10\n",
    "random_values <- runif(num_values, min = a, max = b)\n",
    "\n",
    "# Criando um histograma\n",
    "histogram <- ggplot(data.frame(x = random_values), aes(x)) +\n",
    "  geom_histogram(binwidth = 5, fill = \"blue\", color = \"black\", alpha = 0.7) +\n",
    "  labs(title = \"Histograma - Tempos de Espera em um Semáforo\",\n",
    "       x = \"Tempo de Espera (segundos)\",\n",
    "       y = \"Frequência\")\n",
    "\n",
    "# Exibindo o histograma\n",
    "print(histogram)\n",
    "\n",
    "# Calculando a média e a variância\n",
    "mean_value <- mean(random_values)\n",
    "variance <- var(random_values)\n",
    "\n",
    "# Exibindo os resultados\n",
    "cat(\"Valores aleatórios:\", random_values, \"\\n\")\n",
    "cat(\"Média:\", mean_value, \"\\n\")\n",
    "cat(\"Variância:\", variance, \"\\n\")"
   ]
  },
  {
   "cell_type": "markdown",
   "id": "442015a5",
   "metadata": {},
   "source": [
    "O que acontece se gerarmos não 10, mas 1000 valores aleatório? Sim, notem que a média do tempo se descola mais para o centro do intervalo de distribuição e a distribuição começa a tomar uma forma mais uniforme, como era esperado. "
   ]
  },
  {
   "cell_type": "code",
   "execution_count": 51,
   "id": "0f0cee8d",
   "metadata": {},
   "outputs": [
    {
     "name": "stdout",
     "output_type": "stream",
     "text": [
      "Média: 40.24155 \n",
      "Variância: 136.0465 \n"
     ]
    },
    {
     "data": {
      "image/png": "[encoded data removed]",
      "text/plain": [
       "plot without title"
      ]
     },
     "metadata": {},
     "output_type": "display_data"
    }
   ],
   "source": [
    "# Gerando 1000 valores aleatórios seguindo a distribuição uniforme contínua\n",
    "a <- 20\n",
    "b <- 60\n",
    "num_values <- 1000\n",
    "random_values <- runif(num_values, min = a, max = b)\n",
    "\n",
    "# Criando um histograma\n",
    "histogram <- ggplot(data.frame(x = random_values), aes(x)) +\n",
    "  geom_histogram(binwidth = 5, fill = \"blue\", color = \"black\", alpha = 0.7) +\n",
    "  labs(title = \"Histograma - Tempos de Espera em um Semáforo\",\n",
    "       x = \"Tempo de Espera (segundos)\",\n",
    "       y = \"Frequência\")\n",
    "\n",
    "# Exibindo o histograma\n",
    "print(histogram)\n",
    "\n",
    "# Calculando a média e a variância\n",
    "mean_value <- mean(random_values)\n",
    "variance <- var(random_values)\n",
    "\n",
    "# Exibindo os resultados\n",
    "cat(\"Média:\", mean_value, \"\\n\")\n",
    "cat(\"Variância:\", variance, \"\\n\")"
   ]
  },
  {
   "cell_type": "code",
   "execution_count": null,
   "id": "d16343fa",
   "metadata": {},
   "outputs": [],
   "source": []
  }
 ],
 "metadata": {
  "kernelspec": {
   "display_name": "R",
   "language": "R",
   "name": "ir"
  },
  "language_info": {
   "codemirror_mode": "r",
   "file_extension": ".r",
   "mimetype": "text/x-r-source",
   "name": "R",
   "pygments_lexer": "r",
   "version": "3.6.1"
  }
 },
 "nbformat": 4,
 "nbformat_minor": 5
}
